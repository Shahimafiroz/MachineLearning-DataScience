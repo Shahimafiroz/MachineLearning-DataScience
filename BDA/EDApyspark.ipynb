{
 "cells": [
  {
   "cell_type": "code",
   "execution_count": 34,
   "id": "a137bc7c-6a09-44a1-b043-2b8f249d6a25",
   "metadata": {},
   "outputs": [
    {
     "name": "stdout",
     "output_type": "stream",
     "text": [
      "Requirement already satisfied: pyspark in /opt/homebrew/Cellar/jupyterlab/4.0.7_1/libexec/lib/python3.11/site-packages (3.5.0)\n",
      "Requirement already satisfied: py4j==0.10.9.7 in /opt/homebrew/Cellar/jupyterlab/4.0.7_1/libexec/lib/python3.11/site-packages (from pyspark) (0.10.9.7)\n",
      "Note: you may need to restart the kernel to use updated packages.\n"
     ]
    }
   ],
   "source": [
    "pip install pyspark\n"
   ]
  },
  {
   "cell_type": "code",
   "execution_count": 35,
   "id": "23e77176-fdf8-494e-ae53-0e2c48125c58",
   "metadata": {},
   "outputs": [],
   "source": [
    "from pyspark.sql import SparkSession as ss"
   ]
  },
  {
   "cell_type": "code",
   "execution_count": 39,
   "id": "7a583077-7b22-4f01-8db7-5235ad3d0a20",
   "metadata": {},
   "outputs": [
    {
     "name": "stderr",
     "output_type": "stream",
     "text": [
      "23/11/08 22:50:40 WARN SparkSession: Using an existing Spark session; only runtime SQL configurations will take effect.\n"
     ]
    }
   ],
   "source": [
    "spark=ss.builder.master(\"local\").appName(\"DogeEDA\").getOrCreate()\n"
   ]
  },
  {
   "cell_type": "code",
   "execution_count": 40,
   "id": "962ab8e1-7448-4283-9310-7f15dcba9c3a",
   "metadata": {},
   "outputs": [],
   "source": [
    "df = spark.read.csv(\"TopRichestInWorld.csv\", header=True, inferSchema=True)"
   ]
  },
  {
   "cell_type": "code",
   "execution_count": 41,
   "id": "1975cdf7-dcf8-4486-8fac-9353c3258223",
   "metadata": {},
   "outputs": [
    {
     "data": {
      "text/html": [
       "\n",
       "            <div>\n",
       "                <p><b>SparkSession - in-memory</b></p>\n",
       "                \n",
       "        <div>\n",
       "            <p><b>SparkContext</b></p>\n",
       "\n",
       "            <p><a href=\"http://192.168.1.102:4040\">Spark UI</a></p>\n",
       "\n",
       "            <dl>\n",
       "              <dt>Version</dt>\n",
       "                <dd><code>v3.5.0</code></dd>\n",
       "              <dt>Master</dt>\n",
       "                <dd><code>local</code></dd>\n",
       "              <dt>AppName</dt>\n",
       "                <dd><code>DogeEDA</code></dd>\n",
       "            </dl>\n",
       "        </div>\n",
       "        \n",
       "            </div>\n",
       "        "
      ],
      "text/plain": [
       "<pyspark.sql.session.SparkSession at 0x107698690>"
      ]
     },
     "execution_count": 41,
     "metadata": {},
     "output_type": "execute_result"
    }
   ],
   "source": [
    "spark"
   ]
  },
  {
   "cell_type": "code",
   "execution_count": 42,
   "id": "6d4bc23f-2925-439b-b106-42b403d7c42e",
   "metadata": {},
   "outputs": [
    {
     "name": "stdout",
     "output_type": "stream",
     "text": [
      "+--------------------+----------------+---+-----------------+--------------------+--------------------+\n",
      "|                Name|        NetWorth|Age|Country/Territory|              Source|            Industry|\n",
      "+--------------------+----------------+---+-----------------+--------------------+--------------------+\n",
      "|           Elon Musk|$219,000,000,000| 50|    United States|       Tesla, SpaceX|          Automotive|\n",
      "|          Jeff Bezos|$171,000,000,000| 58|    United States|              Amazon|          Technology|\n",
      "|Bernard Arnault &...|$158,000,000,000| 73|           France|                LVMH|    Fashion & Retail|\n",
      "|          Bill Gates|$129,000,000,000| 66|    United States|           Microsoft|          Technology|\n",
      "|      Warren Buffett|$118,000,000,000| 91|    United States|  Berkshire Hathaway|Finance & Investm...|\n",
      "|          Larry Page|$111,000,000,000| 49|    United States|              Google|          Technology|\n",
      "|         Sergey Brin|$107,000,000,000| 48|    United States|              Google|          Technology|\n",
      "|       Larry Ellison|$106,000,000,000| 77|    United States|            software|          Technology|\n",
      "|       Steve Ballmer| $91,400,000,000| 66|    United States|           Microsoft|          Technology|\n",
      "|       Mukesh Ambani| $90,700,000,000| 64|            India|         diversified|         Diversified|\n",
      "|Gautam Adani & fa...| $90,000,000,000| 59|            India|infrastructure, c...|         Diversified|\n",
      "|   Michael Bloomberg| $82,000,000,000| 80|    United States|        Bloomberg LP|Media & Entertain...|\n",
      "|Carlos Slim Helu ...| $81,200,000,000| 82|           Mexico|             telecom|             Telecom|\n",
      "|Francoise Bettenc...| $74,800,000,000| 68|           France|             L'Oréal|    Fashion & Retail|\n",
      "|     Mark Zuckerberg| $67,300,000,000| 37|    United States|            Facebook|          Technology|\n",
      "|          Jim Walton| $66,200,000,000| 73|    United States|             Walmart|    Fashion & Retail|\n",
      "|      Zhong Shanshan| $65,700,000,000| 67|            China|beverages, pharma...|     Food & Beverage|\n",
      "|        Alice Walton| $65,300,000,000| 72|    United States|             Walmart|    Fashion & Retail|\n",
      "|          Rob Walton| $65,000,000,000| 77|    United States|             Walmart|    Fashion & Retail|\n",
      "|      Changpeng Zhao| $65,000,000,000| 44|           Canada|cryptocurrency ex...|Finance & Investm...|\n",
      "+--------------------+----------------+---+-----------------+--------------------+--------------------+\n",
      "only showing top 20 rows\n",
      "\n"
     ]
    }
   ],
   "source": [
    "df.show()"
   ]
  },
  {
   "cell_type": "code",
   "execution_count": 43,
   "id": "32f2922a-8996-47ab-be2a-5bec82f1a63f",
   "metadata": {},
   "outputs": [
    {
     "name": "stdout",
     "output_type": "stream",
     "text": [
      "+----------+----------------+---+-----------------+-------------+----------+\n",
      "|      Name|        NetWorth|Age|Country/Territory|       Source|  Industry|\n",
      "+----------+----------------+---+-----------------+-------------+----------+\n",
      "| Elon Musk|$219,000,000,000| 50|    United States|Tesla, SpaceX|Automotive|\n",
      "|Jeff Bezos|$171,000,000,000| 58|    United States|       Amazon|Technology|\n",
      "+----------+----------------+---+-----------------+-------------+----------+\n",
      "only showing top 2 rows\n",
      "\n"
     ]
    }
   ],
   "source": [
    "df.show(2)"
   ]
  },
  {
   "cell_type": "code",
   "execution_count": 44,
   "id": "cac0f600-c41d-4574-b3fa-8e490d8a3523",
   "metadata": {},
   "outputs": [
    {
     "name": "stdout",
     "output_type": "stream",
     "text": [
      "root\n",
      " |-- Name: string (nullable = true)\n",
      " |-- NetWorth: string (nullable = true)\n",
      " |-- Age: integer (nullable = true)\n",
      " |-- Country/Territory: string (nullable = true)\n",
      " |-- Source: string (nullable = true)\n",
      " |-- Industry: string (nullable = true)\n",
      "\n"
     ]
    }
   ],
   "source": [
    "df.printSchema()"
   ]
  },
  {
   "cell_type": "code",
   "execution_count": 45,
   "id": "e0d5d374-1e53-4699-859b-9d5196afdd85",
   "metadata": {},
   "outputs": [
    {
     "data": {
      "text/html": [
       "<div>\n",
       "<style scoped>\n",
       "    .dataframe tbody tr th:only-of-type {\n",
       "        vertical-align: middle;\n",
       "    }\n",
       "\n",
       "    .dataframe tbody tr th {\n",
       "        vertical-align: top;\n",
       "    }\n",
       "\n",
       "    .dataframe thead th {\n",
       "        text-align: right;\n",
       "    }\n",
       "</style>\n",
       "<table border=\"1\" class=\"dataframe\">\n",
       "  <thead>\n",
       "    <tr style=\"text-align: right;\">\n",
       "      <th></th>\n",
       "      <th>summary</th>\n",
       "      <th>Name</th>\n",
       "      <th>NetWorth</th>\n",
       "      <th>Age</th>\n",
       "      <th>Country/Territory</th>\n",
       "      <th>Source</th>\n",
       "      <th>Industry</th>\n",
       "    </tr>\n",
       "  </thead>\n",
       "  <tbody>\n",
       "    <tr>\n",
       "      <th>0</th>\n",
       "      <td>count</td>\n",
       "      <td>101</td>\n",
       "      <td>101</td>\n",
       "      <td>101</td>\n",
       "      <td>101</td>\n",
       "      <td>101</td>\n",
       "      <td>101</td>\n",
       "    </tr>\n",
       "    <tr>\n",
       "      <th>1</th>\n",
       "      <td>mean</td>\n",
       "      <td>None</td>\n",
       "      <td>None</td>\n",
       "      <td>67.11881188118812</td>\n",
       "      <td>None</td>\n",
       "      <td>None</td>\n",
       "      <td>None</td>\n",
       "    </tr>\n",
       "    <tr>\n",
       "      <th>2</th>\n",
       "      <td>stddev</td>\n",
       "      <td>None</td>\n",
       "      <td>None</td>\n",
       "      <td>13.892650667682444</td>\n",
       "      <td>None</td>\n",
       "      <td>None</td>\n",
       "      <td>None</td>\n",
       "    </tr>\n",
       "    <tr>\n",
       "      <th>3</th>\n",
       "      <td>min</td>\n",
       "      <td>Abigail Johnson</td>\n",
       "      <td>$106,000,000,000</td>\n",
       "      <td>30</td>\n",
       "      <td>Australia</td>\n",
       "      <td>Aldi, Trader Joe's</td>\n",
       "      <td>Automotive</td>\n",
       "    </tr>\n",
       "    <tr>\n",
       "      <th>4</th>\n",
       "      <td>max</td>\n",
       "      <td>Zhong Shanshan</td>\n",
       "      <td>$91,400,000,000</td>\n",
       "      <td>94</td>\n",
       "      <td>United States</td>\n",
       "      <td>vaccines</td>\n",
       "      <td>Telecom</td>\n",
       "    </tr>\n",
       "  </tbody>\n",
       "</table>\n",
       "</div>"
      ],
      "text/plain": [
       "  summary             Name          NetWorth                 Age  \\\n",
       "0   count              101               101                 101   \n",
       "1    mean             None              None   67.11881188118812   \n",
       "2  stddev             None              None  13.892650667682444   \n",
       "3     min  Abigail Johnson  $106,000,000,000                  30   \n",
       "4     max   Zhong Shanshan   $91,400,000,000                  94   \n",
       "\n",
       "  Country/Territory              Source    Industry  \n",
       "0               101                 101         101  \n",
       "1              None                None        None  \n",
       "2              None                None        None  \n",
       "3         Australia  Aldi, Trader Joe's  Automotive  \n",
       "4     United States            vaccines     Telecom  "
      ]
     },
     "execution_count": 45,
     "metadata": {},
     "output_type": "execute_result"
    }
   ],
   "source": [
    "df.describe().toPandas()"
   ]
  },
  {
   "cell_type": "code",
   "execution_count": 46,
   "id": "6be41d4c-c712-48ec-8456-841ca5da30eb",
   "metadata": {},
   "outputs": [
    {
     "name": "stdout",
     "output_type": "stream",
     "text": [
      "+-----------------+-----+\n",
      "|Country/Territory|count|\n",
      "+-----------------+-----+\n",
      "|           Russia|    2|\n",
      "|           Sweden|    1|\n",
      "|        Singapore|    1|\n",
      "|          Germany|    7|\n",
      "|           France|    7|\n",
      "|    United States|   37|\n",
      "|            India|    7|\n",
      "|            China|   18|\n",
      "|            Chile|    1|\n",
      "|            Italy|    2|\n",
      "|            Spain|    1|\n",
      "|        Hong Kong|    4|\n",
      "|           Mexico|    2|\n",
      "|        Indonesia|    2|\n",
      "|      Switzerland|    1|\n",
      "|           Canada|    2|\n",
      "|            Japan|    3|\n",
      "|        Australia|    2|\n",
      "|          Austria|    1|\n",
      "+-----------------+-----+\n",
      "\n"
     ]
    }
   ],
   "source": [
    "df.groupby('Country/Territory').count().show()"
   ]
  },
  {
   "cell_type": "code",
   "execution_count": 64,
   "id": "610921e5-eb50-43e2-be4a-53290fd740a6",
   "metadata": {},
   "outputs": [
    {
     "data": {
      "image/png": "[encoded data removed]",
      "text/plain": [
       "<Figure size 3000x1000 with 2 Axes>"
      ]
     },
     "metadata": {},
     "output_type": "display_data"
    }
   ],
   "source": [
    "import matplotlib.pyplot as plt\n",
    "import seaborn as sns\n",
    "import matplotlib.pyplot as plt\n",
    "import pandas as pd\n",
    "\n",
    "# Assuming you have a DataFrame 'df' containing your data\n",
    "\n",
    "fig = plt.figure(figsize=(30,10))\n",
    "st = fig.suptitle(\"Distribution of Features\", fontsize=20,\n",
    "verticalalignment=\"center\", )\n",
    "\n",
    "for col, num in zip(df.toPandas().describe().columns, range(1, 11)):\n",
    " ax = fig.add_subplot(3, 4, num)\n",
    " ax.hist(df.toPandas()[col])\n",
    " plt.grid(False)\n",
    " plt.xticks(rotation=45, fontsize=20)\n",
    " plt.yticks(fontsize=15)\n",
    " plt.title(col.upper(), fontsize=20)\n",
    "\n",
    "plt.tight_layout()\n",
    "st.set_y(0.95)\n",
    "fig.subplots_adjust(top=0.85, hspace=0.4)\n",
    "plt.show()"
   ]
  },
  {
   "cell_type": "code",
   "execution_count": 52,
   "id": "e26df800-8fcf-4b67-8ff4-ae17521a3c36",
   "metadata": {},
   "outputs": [
    {
     "name": "stdout",
     "output_type": "stream",
     "text": [
      "Correlation between Age and NetWorth: -0.07447404276033685\n"
     ]
    }
   ],
   "source": [
    "# Import necessary functions for data transformation\n",
    "from pyspark.sql.functions import regexp_replace, col\n",
    "\n",
    "# Remove non-numeric characters (like '$' and commas) and cast to double\n",
    "df = df.withColumn(\"NetWorth\", regexp_replace(\"NetWorth\", \"[^0-9.]\", \"\").cast(\"double\"))\n",
    "\n",
    "# Now you can calculate the correlation\n",
    "correlation = df.corr(\"Age\", \"NetWorth\")\n",
    "print(\"Correlation between Age and NetWorth:\", correlation)\n"
   ]
  },
  {
   "cell_type": "code",
   "execution_count": 56,
   "id": "80766590-a68a-4005-8bb3-722f4feabdce",
   "metadata": {},
   "outputs": [
    {
     "name": "stdout",
     "output_type": "stream",
     "text": [
      "+--------------------+--------+---+-----------------+--------------------+--------------------+\n",
      "|                Name|NetWorth|Age|Country/Territory|              Source|            Industry|\n",
      "+--------------------+--------+---+-----------------+--------------------+--------------------+\n",
      "|           Elon Musk| 2.19E11| 50|    United States|       Tesla, SpaceX|          Automotive|\n",
      "|          Jeff Bezos| 1.71E11| 58|    United States|              Amazon|          Technology|\n",
      "|Bernard Arnault &...| 1.58E11| 73|           France|                LVMH|    Fashion & Retail|\n",
      "|          Bill Gates| 1.29E11| 66|    United States|           Microsoft|          Technology|\n",
      "|      Warren Buffett| 1.18E11| 91|    United States|  Berkshire Hathaway|Finance & Investm...|\n",
      "|          Larry Page| 1.11E11| 49|    United States|              Google|          Technology|\n",
      "|         Sergey Brin| 1.07E11| 48|    United States|              Google|          Technology|\n",
      "|       Larry Ellison| 1.06E11| 77|    United States|            software|          Technology|\n",
      "|       Steve Ballmer| 9.14E10| 66|    United States|           Microsoft|          Technology|\n",
      "|       Mukesh Ambani| 9.07E10| 64|            India|         diversified|         Diversified|\n",
      "|Gautam Adani & fa...|  9.0E10| 59|            India|infrastructure, c...|         Diversified|\n",
      "|   Michael Bloomberg|  8.2E10| 80|    United States|        Bloomberg LP|Media & Entertain...|\n",
      "|Carlos Slim Helu ...| 8.12E10| 82|           Mexico|             telecom|             Telecom|\n",
      "|Francoise Bettenc...| 7.48E10| 68|           France|             L'Oréal|    Fashion & Retail|\n",
      "|     Mark Zuckerberg| 6.73E10| 37|    United States|            Facebook|          Technology|\n",
      "|          Jim Walton| 6.62E10| 73|    United States|             Walmart|    Fashion & Retail|\n",
      "|      Zhong Shanshan| 6.57E10| 67|            China|beverages, pharma...|     Food & Beverage|\n",
      "|        Alice Walton| 6.53E10| 72|    United States|             Walmart|    Fashion & Retail|\n",
      "|          Rob Walton|  6.5E10| 77|    United States|             Walmart|    Fashion & Retail|\n",
      "|      Changpeng Zhao|  6.5E10| 44|           Canada|cryptocurrency ex...|Finance & Investm...|\n",
      "+--------------------+--------+---+-----------------+--------------------+--------------------+\n",
      "only showing top 20 rows\n",
      "\n"
     ]
    }
   ],
   "source": [
    "from pyspark.sql.functions import desc\n",
    "\n",
    "# Sort the DataFrame by 'NetWorth' in descending order\n",
    "df = df.orderBy(desc(\"NetWorth\"))\n",
    "\n",
    "# Show the sorted DataFrame\n",
    "df.show()\n"
   ]
  },
  {
   "cell_type": "code",
   "execution_count": null,
   "id": "f7c887e3-0a46-423c-a13b-d17fc3cd85b8",
   "metadata": {},
   "outputs": [],
   "source": []
  }
 ],
 "metadata": {
  "kernelspec": {
   "display_name": "Python 3 (ipykernel)",
   "language": "python",
   "name": "python3"
  },
  "language_info": {
   "codemirror_mode": {
    "name": "ipython",
    "version": 3
   },
   "file_extension": ".py",
   "mimetype": "text/x-python",
   "name": "python",
   "nbconvert_exporter": "python",
   "pygments_lexer": "ipython3",
   "version": "3.11.6"
  }
 },
 "nbformat": 4,
 "nbformat_minor": 5
}
